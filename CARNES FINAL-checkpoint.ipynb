{
 "cells": [
  {
   "cell_type": "code",
   "execution_count": 1,
   "id": "40464e17",
   "metadata": {},
   "outputs": [],
   "source": [
    "import matplotlib.pyplot as plt\n",
    "import numpy as np\n",
    "import PIL\n",
    "import tensorflow as tf\n",
    "\n",
    "from tensorflow import keras\n",
    "from tensorflow.keras import layers\n",
    "from tensorflow.keras.models import Sequential\n",
    "\n",
    "from sklearn.metrics import confusion_matrix\n",
    "import matplotlib.pyplot as plt"
   ]
  },
  {
   "cell_type": "code",
   "execution_count": 29,
   "id": "6b2af9e6",
   "metadata": {
    "scrolled": true
   },
   "outputs": [
    {
     "name": "stdout",
     "output_type": "stream",
     "text": [
      "Found 1633 files belonging to 7 classes.\n",
      "Found 809 files belonging to 7 classes.\n",
      "['CLASS_02', 'CLASS_03', 'CLASS_04', 'CLASS_05', 'CLASS_06', 'CLASS_07', 'CLASS_08']\n"
     ]
    }
   ],
   "source": [
    "#VARIABLES CARNES\n",
    "\n",
    "batch_size = 64\n",
    "altura = 180\n",
    "ancho = 180\n",
    "\n",
    "train_df = tf.keras.utils.image_dataset_from_directory(\"train\",\n",
    "  image_size=(altura, ancho),\n",
    "  batch_size=batch_size)\n",
    "\n",
    "test_df = tf.keras.utils.image_dataset_from_directory(\"test\",\n",
    "  image_size=(altura, ancho),\n",
    "  batch_size=batch_size)\n",
    "\n",
    "class_names = train_df.class_names\n",
    "print(class_names)\n"
   ]
  },
  {
   "cell_type": "code",
   "execution_count": 30,
   "id": "023666cb",
   "metadata": {},
   "outputs": [
    {
     "name": "stdout",
     "output_type": "stream",
     "text": [
      "0.0 0.99882364\n"
     ]
    }
   ],
   "source": [
    "# Reescalamiento de capas [0, 1]\n",
    "capas = layers.Rescaling(1./255)\n",
    "df_normalizado = train_df.map(lambda x, y: (capas(x), y))\n",
    "image_batch, labels_batch = next(iter(df_normalizado))\n",
    "first_image = image_batch[0]\n",
    "print(np.min(first_image), np.max(first_image))"
   ]
  },
  {
   "cell_type": "code",
   "execution_count": 31,
   "id": "9f931fe3",
   "metadata": {},
   "outputs": [],
   "source": [
    "# IMPLEMENTACIÓN\n",
    "numeroCLS = len(class_names)\n",
    "\n",
    "model = Sequential([\n",
    "  layers.Rescaling(1./255, input_shape=(altura_imagen, ancho_imagen, 3)),\n",
    "  layers.Conv2D(16, 3, padding='same', activation='relu'),\n",
    "  layers.MaxPooling2D(),\n",
    "  layers.Conv2D(32, 3, padding='same', activation='relu'),\n",
    "  layers.MaxPooling2D(),\n",
    "  layers.Conv2D(64, 3, padding='same', activation='relu'),\n",
    "  layers.MaxPooling2D(),\n",
    "  layers.Flatten(),\n",
    "  layers.Dense(128, activation='relu'),\n",
    "  layers.Dense(numeroCLS)\n",
    "])"
   ]
  },
  {
   "cell_type": "code",
   "execution_count": 32,
   "id": "e294f61d",
   "metadata": {},
   "outputs": [],
   "source": [
    "model.compile(optimizer='adam',\n",
    "              loss=tf.keras.losses.SparseCategoricalCrossentropy(from_logits=True),\n",
    "              metrics=['accuracy'])"
   ]
  },
  {
   "cell_type": "code",
   "execution_count": 33,
   "id": "164d98b1",
   "metadata": {},
   "outputs": [
    {
     "name": "stdout",
     "output_type": "stream",
     "text": [
      "Epoch 1/10\n",
      "26/26 [==============================] - 38s 1s/step - loss: 1.4865 - accuracy: 0.5346\n",
      "Epoch 2/10\n",
      "26/26 [==============================] - 45s 2s/step - loss: 0.9535 - accuracy: 0.6699\n",
      "Epoch 3/10\n",
      "26/26 [==============================] - 36s 1s/step - loss: 0.5718 - accuracy: 0.8028\n",
      "Epoch 4/10\n",
      "26/26 [==============================] - 35s 1s/step - loss: 0.3855 - accuracy: 0.8708\n",
      "Epoch 5/10\n",
      "26/26 [==============================] - 34s 1s/step - loss: 0.2463 - accuracy: 0.9149\n",
      "Epoch 6/10\n",
      "26/26 [==============================] - 32s 1s/step - loss: 0.2109 - accuracy: 0.9192\n",
      "Epoch 7/10\n",
      "26/26 [==============================] - 33s 1s/step - loss: 0.1001 - accuracy: 0.9706\n",
      "Epoch 8/10\n",
      "26/26 [==============================] - 33s 1s/step - loss: 0.1260 - accuracy: 0.9565\n",
      "Epoch 9/10\n",
      "26/26 [==============================] - 33s 1s/step - loss: 0.0439 - accuracy: 0.9884\n",
      "Epoch 10/10\n",
      "26/26 [==============================] - 33s 1s/step - loss: 0.0327 - accuracy: 0.9933\n"
     ]
    }
   ],
   "source": [
    "# PROCESAMIENTO DE IMAGENES CON EL MODELO CREADO\n",
    "epochs=10\n",
    "history = model.fit(\n",
    "  train_df,\n",
    "  epochs=epochs\n",
    ")"
   ]
  },
  {
   "cell_type": "code",
   "execution_count": 47,
   "id": "e2230eb7",
   "metadata": {},
   "outputs": [
    {
     "name": "stdout",
     "output_type": "stream",
     "text": [
      "1/1 [==============================] - 0s 60ms/step\n",
      "This image most likely belongs to CLASS_05 with a 99.90 percent confidence.\n"
     ]
    }
   ],
   "source": [
    "# PROBABILIDADES\n",
    "imagen = tf.keras.utils.load_img(\n",
    "    r\"C:\\Users\\RicardoTorres\\Desktop\\Carnes Final\\test\\CLASS_05\\05-CAPTURE_20220421_052238_737.png\", target_size=(img_height, img_width))\n",
    "\n",
    "arreglo = tf.keras.utils.img_to_array(imagen)\n",
    "arreglo = tf.expand_dims(arreglo, 0) # Create a batch\n",
    "\n",
    "predictions = model.predict(arreglo)\n",
    "score = tf.nn.softmax(predictions[0])\n",
    "\n",
    "print(\n",
    "    \"This image most likely belongs to {} with a {:.2f} percent confidence.\"\n",
    "    .format(class_names[np.argmax(score)], 100 * np.max(score)))\n"
   ]
  },
  {
   "cell_type": "code",
   "execution_count": 48,
   "id": "b80a0535",
   "metadata": {},
   "outputs": [
    {
     "name": "stdout",
     "output_type": "stream",
     "text": [
      "26/26 [==============================] - 11s 387ms/step\n",
      "MATRIZ (CONJUNTO DE ENTRENAMIENTO):\n",
      "[[  3  12   6  32   1   5   3]\n",
      " [ 12  28  10 118   5  33   7]\n",
      " [  5   8   8  61   1  19   3]\n",
      " [ 33 122  62 547  26 118  41]\n",
      " [  2   4   4  20   0   5   2]\n",
      " [  5  26  12 136   3  15   7]\n",
      " [  3  12   3  34   1   8   2]]\n",
      "\n",
      "13/13 [==============================] - 6s 406ms/step\n",
      "MATRIZ (CONJUNTO DE PRUEBAS):\n",
      "[[  3   7   4  23   3   6   2]\n",
      " [  1   6   8  63   2  13   4]\n",
      " [  1   4   1  29   2   7   1]\n",
      " [ 26  58  23 265   6  61  20]\n",
      " [  2   0   0  14   1   2   0]\n",
      " [  6  16  11  70   0   7   4]\n",
      " [  2   5   1  14   1   3   1]]\n"
     ]
    }
   ],
   "source": [
    "# OBTENCIÓN DE ETIQUETAS\n",
    "entrenado = []  # ALMACENAMIENTO\n",
    "\n",
    "for x, y in train_df:\n",
    "    entrenado.extend(y.numpy())\n",
    "\n",
    "# CALCULOS DE PREDICCIONES DEL MODELO\n",
    "pred_entrenado = model.predict(train_df)\n",
    "pred_entrenado = np.argmax(pred_entrenado, axis=1)\n",
    "\n",
    "# MATRICES\n",
    "matriz_entrenada = confusion_matrix(entrenado, pred_entrenado)\n",
    "print(\"MATRIZ (CONJUNTO DE ENTRENAMIENTO):\")\n",
    "print(matriz_entrenada)\n",
    "print(\"\")\n",
    "\n",
    "# OBTENCIÓN DE ETIQUETAS VERDADERAS\n",
    "prueba = []  # ALMACENAMIENTO\n",
    "\n",
    "for x, y in test_df:\n",
    "    prueba.extend(y.numpy())\n",
    "\n",
    "# CALCULOS DE PREDICCIONES-MATRIZ DE CONFUSIÓN\n",
    "pred_prueba = model.predict(test_df)\n",
    "pred_prueba = np.argmax(pred_prueba, axis=1)\n",
    "\n",
    "# CALCULOS FINALES\n",
    "matriz_prueba = confusion_matrix(prueba, pred_prueba)\n",
    "print(\"MATRIZ (CONJUNTO DE PRUEBAS):\")\n",
    "print(matriz_prueba)"
   ]
  },
  {
   "cell_type": "code",
   "execution_count": null,
   "id": "a174f5df",
   "metadata": {},
   "outputs": [],
   "source": []
  }
 ],
 "metadata": {
  "kernelspec": {
   "display_name": "Python 3 (ipykernel)",
   "language": "python",
   "name": "python3"
  },
  "language_info": {
   "codemirror_mode": {
    "name": "ipython",
    "version": 3
   },
   "file_extension": ".py",
   "mimetype": "text/x-python",
   "name": "python",
   "nbconvert_exporter": "python",
   "pygments_lexer": "ipython3",
   "version": "3.11.5"
  }
 },
 "nbformat": 4,
 "nbformat_minor": 5
}
